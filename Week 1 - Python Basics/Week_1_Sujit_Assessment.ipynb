{
  "nbformat": 4,
  "nbformat_minor": 0,
  "metadata": {
    "colab": {
      "name": "Week_1_Assessment.ipynb",
      "provenance": [],
      "collapsed_sections": []
    },
    "kernelspec": {
      "name": "python3",
      "display_name": "Python 3"
    }
  },
  "cells": [
    {
      "cell_type": "markdown",
      "metadata": {
        "id": "cR-dxFx1hb8h"
      },
      "source": [
        "#Using file handling, extract and read data from the data.txt file, and store that in a list."
      ]
    },
    {
      "cell_type": "code",
      "metadata": {
        "id": "qefHJlTOd8K2",
        "outputId": "6c3636d1-f172-4f45-dcf2-2cad33465d6c",
        "colab": {
          "base_uri": "https://localhost:8080/"
        }
      },
      "source": [
        "file=open(\"data.txt\",\"r\")\n",
        "li=file.readline().split()\n",
        "for i in range(0,len(li)):\n",
        "    li[i]=int(li[i])\n",
        "print(li)"
      ],
      "execution_count": 14,
      "outputs": [
        {
          "output_type": "stream",
          "text": [
            "[3, 4, 7, 9, 8, 10, 24, 985, 346, 793, 13, 47, 84, 102, 735, 1]\n"
          ],
          "name": "stdout"
        }
      ]
    },
    {
      "cell_type": "markdown",
      "metadata": {
        "id": "caXry11fhmWY"
      },
      "source": [
        "Q1 - Find out the mean and median of the data you extracted and stored in the list, without using any libraries."
      ]
    },
    {
      "cell_type": "code",
      "metadata": {
        "id": "YWsE7Wwyh1zV",
        "outputId": "6063f46f-7ebf-418c-d76a-a0023814d829",
        "colab": {
          "base_uri": "https://localhost:8080/"
        }
      },
      "source": [
        "li.sort()\n",
        "print(li)\n",
        "sum=0\n",
        "for i in li:\n",
        "    sum=sum+i\n",
        "mean=sum/len(li)\n",
        "for i in range(len(li)):\n",
        "    if len(li)%2==0:\n",
        "        median=(li[(len(li)//2)-1]+li[len(li)//2])/2\n",
        "    else:\n",
        "        median=li[len(li)//2]\n",
        "print(mean, median)"
      ],
      "execution_count": 19,
      "outputs": [
        {
          "output_type": "stream",
          "text": [
            "[1, 3, 4, 7, 8, 9, 10, 13, 24, 47, 84, 102, 346, 735, 793, 985]\n",
            "198.1875 18.5\n"
          ],
          "name": "stdout"
        }
      ]
    },
    {
      "cell_type": "markdown",
      "metadata": {
        "id": "tupwxozth2l4"
      },
      "source": [
        "Q2 - Divide the list into 2 separate lists, based on the median. The first list will have all numbers less than the median, and the 2nd list will have all the numbers greater than the median, including the median. Use list slicing to achieve this."
      ]
    },
    {
      "cell_type": "code",
      "metadata": {
        "id": "HE2TSNhRiKdY",
        "outputId": "28af6c33-96c4-46fe-e292-a5862f16145a",
        "colab": {
          "base_uri": "https://localhost:8080/"
        }
      },
      "source": [
        "li.sort()\n",
        "a=[t for t in li if t < median]\n",
        "b=[t for t in li if t > median]\n",
        "print(a)\n",
        "print(b)"
      ],
      "execution_count": 20,
      "outputs": [
        {
          "output_type": "stream",
          "text": [
            "[1, 3, 4, 7, 8, 9, 10, 13]\n",
            "[24, 47, 84, 102, 346, 735, 793, 985]\n"
          ],
          "name": "stdout"
        }
      ]
    },
    {
      "cell_type": "markdown",
      "metadata": {
        "id": "lvyc83TikMqI"
      },
      "source": [
        "###Given below is a dictionary containing the details of people taking Covid-19 test."
      ]
    },
    {
      "cell_type": "code",
      "metadata": {
        "id": "Yri_6tcTkMCY",
        "outputId": "1850447b-db5a-43bf-d9ea-d8d6dedcfff3",
        "colab": {
          "base_uri": "https://localhost:8080/"
        }
      },
      "source": [
        "\"\"\"\n",
        "Key - name of the patient\n",
        "Values - array of \n",
        "                1 - Whether the patient has covid-19 or not\n",
        "                2 - The patient's age\n",
        "                3 - The temperature of the patient in Fahrenheit Scale\n",
        "\"\"\"\n",
        "details = {'Ratchel' : ['No', 24, 97], 'Shrek' : ['No', 31, 99], 'Gillard' : ['No', 21, 98], 'Rea' : ['Yes', 23, 102], 'Adam': ['No', 67, 95]}\n",
        "details"
      ],
      "execution_count": 22,
      "outputs": [
        {
          "output_type": "execute_result",
          "data": {
            "text/plain": [
              "{'Adam': ['No', 67, 95],\n",
              " 'Gillard': ['No', 21, 98],\n",
              " 'Ratchel': ['No', 24, 97],\n",
              " 'Rea': ['Yes', 23, 102],\n",
              " 'Shrek': ['No', 31, 99]}"
            ]
          },
          "metadata": {
            "tags": []
          },
          "execution_count": 22
        }
      ]
    },
    {
      "cell_type": "markdown",
      "metadata": {
        "id": "zzyTdWgJl7nq"
      },
      "source": [
        "Q3 - From the above dictionary, list out all the people who don't have Covid-19, as well as their age lies in the range of 20 - 30 years old"
      ]
    },
    {
      "cell_type": "code",
      "metadata": {
        "id": "NHIlpRbdlhlP",
        "outputId": "991b173a-3349-4494-b122-8ef23c61cbde",
        "colab": {
          "base_uri": "https://localhost:8080/"
        }
      },
      "source": [
        ""
      ],
      "execution_count": 23,
      "outputs": [
        {
          "output_type": "stream",
          "text": [
            "['Ratchel', 'Gillard']\n"
          ],
          "name": "stdout"
        }
      ]
    },
    {
      "cell_type": "markdown",
      "metadata": {
        "id": "WYb85dXOmWKZ"
      },
      "source": [
        "Q4 - Sort the above dictionary in decreasing order on the basis of their temperatures."
      ]
    },
    {
      "cell_type": "code",
      "metadata": {
        "id": "C75_fuYOmV1i"
      },
      "source": [
        ""
      ],
      "execution_count": null,
      "outputs": []
    },
    {
      "cell_type": "markdown",
      "metadata": {
        "id": "l2NABanfnDvJ"
      },
      "source": [
        "##Q5 - Write a simple python script to accept a string as input, and find those words which appear more than 2 times in the string.\n",
        "\n",
        "E.g. - What profession did Harvard call the Sexiest Job of the 21st Century? That’s right… the data scientist. Ah yes, the ever mysterious data scientist. So what exactly is the data scientist’s secret sauce, and what does this “sexy” person actually do at work every day? This article is intended to help define the data scientist role, including typical skills, qualifications, education, experience, and responsibilities. This definition is somewhat loose since there really isn’t a standardized definition of the data scientist role, and given that the ideal experience and skill set is relatively rare to find in one individual. This definition can be further confused by the fact that there are other roles sometimes thought of as the same, but are often quite different. Some of these include data analyst, data engineer, and so on. More on that later.\n",
        "\n",
        "Output - \n",
        "what\n",
        "the\n",
        "of\n",
        "data\n",
        "is\n",
        "and\n",
        "this\n",
        "definition\n",
        "that"
      ]
    },
    {
      "cell_type": "code",
      "metadata": {
        "id": "ahsM1DCArpfc"
      },
      "source": [
        ""
      ],
      "execution_count": null,
      "outputs": []
    }
  ]
}